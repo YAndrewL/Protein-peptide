{
 "cells": [
  {
   "cell_type": "code",
   "execution_count": null,
   "metadata": {
    "collapsed": false,
    "pycharm": {
     "name": "#%%\n"
    }
   },
   "outputs": [],
   "source": [
    "import os\n",
    "import pandas as pd\n",
    "import numpy as np"
   ]
  },
  {
   "cell_type": "markdown",
   "metadata": {
    "collapsed": false,
    "pycharm": {
     "name": "#%% md\n"
    }
   },
   "source": [
    "## Split Yanglab data\n",
    "split yanglab 1279 into TR1154 and TE125"
   ]
  },
  {
   "cell_type": "code",
   "execution_count": null,
   "metadata": {
    "collapsed": false,
    "pycharm": {
     "name": "#%%\n"
    }
   },
   "outputs": [],
   "source": [
    "lines = open(\"./Dataset/yyd.txt\", 'r').readlines()"
   ]
  },
  {
   "cell_type": "code",
   "execution_count": null,
   "metadata": {
    "collapsed": false,
    "pycharm": {
     "name": "#%%\n"
    }
   },
   "outputs": [],
   "source": [
    "# TS125 data\n",
    "ts125_id = pd.read_table(\"./Dataset/ts125.txt\", sep='\\t', header=None, names=['id', '1', '2', '3', '4', '5'])"
   ]
  },
  {
   "cell_type": "code",
   "execution_count": null,
   "metadata": {
    "collapsed": false,
    "pycharm": {
     "name": "#%%\n"
    }
   },
   "outputs": [],
   "source": [
    "ts125_names = list(ts125_id['id'])"
   ]
  },
  {
   "cell_type": "code",
   "execution_count": null,
   "metadata": {
    "collapsed": false,
    "pycharm": {
     "name": "#%%\n"
    }
   },
   "outputs": [],
   "source": [
    "ts125_names"
   ]
  },
  {
   "cell_type": "code",
   "execution_count": null,
   "metadata": {
    "collapsed": false,
    "pycharm": {
     "name": "#%%\n"
    }
   },
   "outputs": [],
   "source": [
    "f1 = open(\"./Dataset/TR1154.txt\", 'w')\n",
    "f2 = open(\"./Dataset/TE125.txt\", 'w')\n",
    "for l in range(0,  len(lines), 3):\n",
    "    if lines[l][1:6] in ts125_names:\n",
    "        f2.write(lines[l])\n",
    "        f2.write(lines[l+1])\n",
    "        f2.write(lines[l+2])\n",
    "    else:\n",
    "        f1.write(lines[l])\n",
    "        f1.write(lines[l+1])\n",
    "        f1.write(lines[l+2])\n",
    "f1.close()\n",
    "f2.close()"
   ]
  },
  {
   "cell_type": "code",
   "execution_count": null,
   "metadata": {
    "collapsed": false,
    "pycharm": {
     "name": "#%%\n"
    }
   },
   "outputs": [],
   "source": [
    "lines"
   ]
  },
  {
   "cell_type": "markdown",
   "metadata": {
    "collapsed": false,
    "pycharm": {
     "name": "#%% md\n"
    }
   },
   "source": [
    "## pdb download"
   ]
  },
  {
   "cell_type": "code",
   "execution_count": null,
   "metadata": {
    "collapsed": false,
    "pycharm": {
     "name": "#%%\n"
    }
   },
   "outputs": [],
   "source": [
    "# Extract all PDBs\n",
    "pdbs = []\n",
    "\n",
    "for i in open(\"./Dataset/TR640.txt\", 'r').readlines():\n",
    "    if '.txt' in i:\n",
    "        pdbs.append(i.strip()[1:6])\n",
    "\n",
    "for i in open(\"./Dataset/TE639.txt\", 'r').readlines():\n",
    "    if '.txt' in i:\n",
    "        pdbs.append(i.strip()[1:6])\n",
    "\n",
    "for i in open(\"./Dataset/yyd.txt\", 'r').readlines():\n",
    "    if '.txt' in i:\n",
    "        pdbs.append(i.strip()[1:6])"
   ]
  },
  {
   "cell_type": "code",
   "execution_count": null,
   "metadata": {
    "collapsed": false,
    "pycharm": {
     "name": "#%%\n"
    }
   },
   "outputs": [],
   "source": [
    "with open(\"pdbs.txt\", 'w') as f:\n",
    "    for i in pdbs:\n",
    "        f.write(i + ',')"
   ]
  },
  {
   "cell_type": "code",
   "execution_count": null,
   "metadata": {
    "collapsed": false,
    "pycharm": {
     "name": "#%%\n"
    }
   },
   "outputs": [],
   "source": [
    "# download pdb from BioLiP\n",
    "# os.chdir(\"./pdb_files/\")\n",
    "for i in pdbs:\n",
    "    try:\n",
    "        os.system(\"wget https://zhanggroup.org/BioLiP/LBSITE/receptor/\" + i + '.pdb')\n",
    "    except:\n",
    "        print(i)\n",
    "\n",
    "# 1279 pdb files in total"
   ]
  },
  {
   "cell_type": "code",
   "execution_count": null,
   "metadata": {
    "collapsed": false,
    "pycharm": {
     "name": "#%%\n"
    }
   },
   "outputs": [],
   "source": [
    "# counting binding numbers\n",
    "import numpy as np\n",
    "binding = 0\n",
    "\n",
    "files = open(\"./Dataset/TR640.txt\", 'r').readlines()\n",
    "for l in files:\n",
    "    if l.startswith('0') or l.startswith('1'):\n",
    "        l = ','.join(list(l))\n",
    "        #print(l)\n",
    "        binding += np.sum(np.fromstring(l, dtype = 'int', sep=','))\n",
    "\n",
    "print(binding)"
   ]
  },
  {
   "cell_type": "code",
   "execution_count": null,
   "metadata": {
    "collapsed": false,
    "pycharm": {
     "name": "#%%\n"
    }
   },
   "outputs": [],
   "source": [
    "# something wrong\n",
    "binding = 0\n",
    "lines = open(\"./Dataset/TR640.txt\").readlines()\n",
    "for l in range(0,  len(lines), 3):\n",
    "    tag = ' '.join(list(lines[l+2]))\n",
    "    binding += np.sum(np.fromstring(tag, dtype='int', sep=' '))"
   ]
  },
  {
   "cell_type": "code",
   "execution_count": null,
   "metadata": {
    "collapsed": false,
    "pycharm": {
     "name": "#%%\n"
    }
   },
   "outputs": [],
   "source": [
    "# binding dict of Leyi Wei lab\n"
   ]
  },
  {
   "cell_type": "code",
   "execution_count": null,
   "metadata": {
    "collapsed": false,
    "pycharm": {
     "name": "#%%\n"
    }
   },
   "outputs": [],
   "source": []
  },
  {
   "cell_type": "code",
   "execution_count": null,
   "metadata": {
    "collapsed": false,
    "pycharm": {
     "name": "#%%\n"
    }
   },
   "outputs": [],
   "source": [
    "# something wrong\n",
    "binding = 0\n",
    "lines = open(\"./Dataset/TR640.txt\").readlines()\n",
    "for l in range(0,  len(lines), 3):\n",
    "    tag = ' '.join(list(lines[l+2]))\n",
    "    binding += np.sum(np.fromstring(tag, dtype='int', sep=' '))"
   ]
  },
  {
   "cell_type": "code",
   "execution_count": null,
   "metadata": {
    "collapsed": false,
    "pycharm": {
     "name": "#%%\n"
    }
   },
   "outputs": [],
   "source": [
    "# binding dict of Leyi Wei lab\n",
    "\n",
    "# train dict\n",
    "train = pd.read_table(\"../paper_models/PepBCL-master/data/Dataset1_train.tsv\")\n",
    "# train_dict = dict(*zip())"
   ]
  },
  {
   "cell_type": "code",
   "execution_count": null,
   "metadata": {
    "collapsed": false,
    "pycharm": {
     "name": "#%%\n"
    }
   },
   "outputs": [],
   "source": [
    "train"
   ]
  },
  {
   "cell_type": "code",
   "execution_count": null,
   "metadata": {
    "collapsed": false,
    "pycharm": {
     "name": "#%%\n"
    }
   },
   "outputs": [],
   "source": [
    "train_dict = {}\n",
    "lines = open(\"./Dataset/TR1154.txt\").readlines()\n",
    "for i in range(0, len(lines), 3):\n",
    "    train_dict[lines[i+1].strip()] = lines[i+2].strip()"
   ]
  },
  {
   "cell_type": "code",
   "execution_count": null,
   "metadata": {
    "collapsed": false,
    "pycharm": {
     "name": "#%%\n"
    }
   },
   "outputs": [],
   "source": [
    "for i in range(len(train['seq'])):\n",
    "    if train['label'][i] != train_dict[train['seq'][i]]:\n",
    "        print(train['seq'][i])"
   ]
  },
  {
   "cell_type": "code",
   "execution_count": null,
   "metadata": {
    "collapsed": false,
    "pycharm": {
     "name": "#%%\n"
    }
   },
   "outputs": [],
   "source": [
    "train_dict['IVEGSDAEIGMSPWQVMLFRKSPQELLCGASLISDRWVLTAAHCLLYPPWDKNFTENDLLVRIGKHS']"
   ]
  },
  {
   "cell_type": "code",
   "execution_count": null,
   "metadata": {
    "collapsed": false,
    "pycharm": {
     "name": "#%%\n"
    }
   },
   "outputs": [],
   "source": [
    "'IVEGSDAEIGMSPWQVMLFRKSPQELLCGASLISDRWVLTAAHCLLYPPWDKNFTENDLLVRIGKHS' in train_dict.keys()"
   ]
  },
  {
   "cell_type": "code",
   "execution_count": null,
   "metadata": {
    "collapsed": false,
    "pycharm": {
     "name": "#%%\n"
    }
   },
   "outputs": [],
   "source": []
  },
  {
   "cell_type": "code",
   "execution_count": null,
   "outputs": [],
   "source": [
    "# something wrong\n",
    "binding = 0\n",
    "lines = open(\"./Dataset/TR640.txt\").readlines()\n",
    "for l in range(0,  len(lines), 3):\n",
    "    tag = ' '.join(list(lines[l+2]))\n",
    "    binding += np.sum(np.fromstring(tag, dtype='int', sep=' '))"
   ],
   "metadata": {
    "collapsed": false,
    "pycharm": {
     "name": "#%%\n"
    }
   }
  },
  {
   "cell_type": "code",
   "execution_count": null,
   "outputs": [],
   "source": [
    "# binding dict of Leyi Wei lab\n",
    "\n",
    "# train dict\n",
    "train = pd.read_table(\"../paper_models/PepBCL-master/data/Dataset1_test.tsv\")\n",
    "# train_dict = dict(*zip())"
   ],
   "metadata": {
    "collapsed": false,
    "pycharm": {
     "name": "#%%\n"
    }
   }
  },
  {
   "cell_type": "code",
   "execution_count": null,
   "outputs": [],
   "source": [
    "train"
   ],
   "metadata": {
    "collapsed": false,
    "pycharm": {
     "name": "#%%\n"
    }
   }
  },
  {
   "cell_type": "code",
   "execution_count": null,
   "outputs": [],
   "source": [
    "train_dict = {}\n",
    "lines = open(\"./Dataset/TR1154.txt\").readlines()\n",
    "for i in range(0, len(lines), 3):\n",
    "    train_dict[lines[i+1].strip()] = lines[i+2].strip()"
   ],
   "metadata": {
    "collapsed": false,
    "pycharm": {
     "name": "#%%\n"
    }
   }
  },
  {
   "cell_type": "code",
   "execution_count": null,
   "outputs": [],
   "source": [
    "for i in range(len(train['seq'])):\n",
    "    if train['label'][i] != train_dict[train['seq'][i]]:\n",
    "        print(train['seq'][i])"
   ],
   "metadata": {
    "collapsed": false,
    "pycharm": {
     "name": "#%%\n"
    }
   }
  },
  {
   "cell_type": "code",
   "execution_count": null,
   "outputs": [],
   "source": [
    "train_dict['IVEGSDAEIGMSPWQVMLFRKSPQELLCGASLISDRWVLTAAHCLLYPPWDKNFTENDLLVRIGKHS']"
   ],
   "metadata": {
    "collapsed": false,
    "pycharm": {
     "name": "#%%\n"
    }
   }
  },
  {
   "cell_type": "code",
   "execution_count": null,
   "outputs": [],
   "source": [
    "bind = 0\n",
    "for i in train['label']:\n",
    "    tag = ' '.join(list(i))\n",
    "    bind += np.sum(np.fromstring(tag, dtype='int', sep=' '))\n"
   ],
   "metadata": {
    "collapsed": false,
    "pycharm": {
     "name": "#%%\n"
    }
   }
  },
  {
   "cell_type": "code",
   "execution_count": null,
   "outputs": [],
   "source": [
    "\n",
    "bind"
   ],
   "metadata": {
    "collapsed": false,
    "pycharm": {
     "name": "#%%\n"
    }
   }
  },
  {
   "cell_type": "code",
   "execution_count": null,
   "outputs": [],
   "source": [],
   "metadata": {
    "collapsed": false,
    "pycharm": {
     "name": "#%%\n"
    }
   }
  },
  {
   "cell_type": "code",
   "execution_count": 15,
   "metadata": {},
   "outputs": [],
   "source": [
    "# something wrong\n",
    "binding = 0\n",
    "lines = open(\"./Dataset/TR640.txt\").readlines()\n",
    "for l in range(0,  len(lines), 3):\n",
    "    tag = ' '.join(list(lines[l+2]))\n",
    "    binding += np.sum(np.fromstring(tag, dtype='int', sep=' '))"
   ]
  },
  {
   "cell_type": "code",
   "execution_count": 50,
   "metadata": {},
   "outputs": [],
   "source": [
    "# binding dict of Leyi Wei lab\n",
    "\n",
    "# train dict\n",
    "train = pd.read_table(\"../paper_models/PepBCL-master/data/Dataset1_test.tsv\")\n",
    "# train_dict = dict(*zip())"
   ]
  },
  {
   "cell_type": "code",
   "execution_count": 51,
   "metadata": {},
   "outputs": [
    {
     "data": {
      "text/html": [
       "<div>\n",
       "<style scoped>\n",
       "    .dataframe tbody tr th:only-of-type {\n",
       "        vertical-align: middle;\n",
       "    }\n",
       "\n",
       "    .dataframe tbody tr th {\n",
       "        vertical-align: top;\n",
       "    }\n",
       "\n",
       "    .dataframe thead th {\n",
       "        text-align: right;\n",
       "    }\n",
       "</style>\n",
       "<table border=\"1\" class=\"dataframe\">\n",
       "  <thead>\n",
       "    <tr style=\"text-align: right;\">\n",
       "      <th></th>\n",
       "      <th>seq</th>\n",
       "      <th>label</th>\n",
       "    </tr>\n",
       "  </thead>\n",
       "  <tbody>\n",
       "    <tr>\n",
       "      <th>0</th>\n",
       "      <td>MGSSEQELKAIVKDLGCGPYFLGTYDKRFPGFVSPHKLACAIVNTA...</td>\n",
       "      <td>0000000000000000000000000000000000000000000000...</td>\n",
       "    </tr>\n",
       "    <tr>\n",
       "      <th>1</th>\n",
       "      <td>ADVPAGVQLADKQTLVRNNGSEVQSLDPHKIEGVPESNVSRDLFEG...</td>\n",
       "      <td>0000000000000000000000000000000111001000000000...</td>\n",
       "    </tr>\n",
       "    <tr>\n",
       "      <th>2</th>\n",
       "      <td>IVEGQDAEVGLSPWQVMLFRKSPQELLCGASLISDRWVLTAAHCLL...</td>\n",
       "      <td>0000000000000000000000000000000000000000001000...</td>\n",
       "    </tr>\n",
       "    <tr>\n",
       "      <th>3</th>\n",
       "      <td>ANGLTVAQNQVLNLIKACPRPEGLNFQDLKNQLKHMSVSSIKQAVD...</td>\n",
       "      <td>0000000000000000000000000000000000000000000000...</td>\n",
       "    </tr>\n",
       "    <tr>\n",
       "      <th>4</th>\n",
       "      <td>RGPHDAAIQNILTELQNHAAAWPFLQPVNKEEVPDYYDFIKEPMDL...</td>\n",
       "      <td>0000000000000000000000110001000010000010000000...</td>\n",
       "    </tr>\n",
       "    <tr>\n",
       "      <th>...</th>\n",
       "      <td>...</td>\n",
       "      <td>...</td>\n",
       "    </tr>\n",
       "    <tr>\n",
       "      <th>120</th>\n",
       "      <td>SKKENLLAEKVEQLMEWSSRRSIFRMNGDKFRKFIKAPPRNYSMIV...</td>\n",
       "      <td>0000000000000000000000000000000000000000000000...</td>\n",
       "    </tr>\n",
       "    <tr>\n",
       "      <th>121</th>\n",
       "      <td>MLCEIECRALSTAHTRLIHDFEPRDALTYLEGKNIFTEDHSELISK...</td>\n",
       "      <td>0000000000000000000000000000000000000000000000...</td>\n",
       "    </tr>\n",
       "    <tr>\n",
       "      <th>122</th>\n",
       "      <td>SHKKSGTYWATLITAFLKTVSKVEELDCVDSAVLVDVSKIITLTQE...</td>\n",
       "      <td>0000000000000000000000000000000000000000000001...</td>\n",
       "    </tr>\n",
       "    <tr>\n",
       "      <th>123</th>\n",
       "      <td>KIEEGKLVIWINGDKGYNGLAEVGKKFEKDTGIKVTVEHPDKLEEK...</td>\n",
       "      <td>0000000000000000000000000000000000000000000000...</td>\n",
       "    </tr>\n",
       "    <tr>\n",
       "      <th>124</th>\n",
       "      <td>GGLKVLLHWAGPGGGEPWVTFSESSLTAEEVCIHIAHKVGITPPCF...</td>\n",
       "      <td>0000000000000000000000000000000000000000000000...</td>\n",
       "    </tr>\n",
       "  </tbody>\n",
       "</table>\n",
       "<p>125 rows × 2 columns</p>\n",
       "</div>"
      ],
      "text/plain": [
       "                                                   seq  \\\n",
       "0    MGSSEQELKAIVKDLGCGPYFLGTYDKRFPGFVSPHKLACAIVNTA...   \n",
       "1    ADVPAGVQLADKQTLVRNNGSEVQSLDPHKIEGVPESNVSRDLFEG...   \n",
       "2    IVEGQDAEVGLSPWQVMLFRKSPQELLCGASLISDRWVLTAAHCLL...   \n",
       "3    ANGLTVAQNQVLNLIKACPRPEGLNFQDLKNQLKHMSVSSIKQAVD...   \n",
       "4    RGPHDAAIQNILTELQNHAAAWPFLQPVNKEEVPDYYDFIKEPMDL...   \n",
       "..                                                 ...   \n",
       "120  SKKENLLAEKVEQLMEWSSRRSIFRMNGDKFRKFIKAPPRNYSMIV...   \n",
       "121  MLCEIECRALSTAHTRLIHDFEPRDALTYLEGKNIFTEDHSELISK...   \n",
       "122  SHKKSGTYWATLITAFLKTVSKVEELDCVDSAVLVDVSKIITLTQE...   \n",
       "123  KIEEGKLVIWINGDKGYNGLAEVGKKFEKDTGIKVTVEHPDKLEEK...   \n",
       "124  GGLKVLLHWAGPGGGEPWVTFSESSLTAEEVCIHIAHKVGITPPCF...   \n",
       "\n",
       "                                                 label  \n",
       "0    0000000000000000000000000000000000000000000000...  \n",
       "1    0000000000000000000000000000000111001000000000...  \n",
       "2    0000000000000000000000000000000000000000001000...  \n",
       "3    0000000000000000000000000000000000000000000000...  \n",
       "4    0000000000000000000000110001000010000010000000...  \n",
       "..                                                 ...  \n",
       "120  0000000000000000000000000000000000000000000000...  \n",
       "121  0000000000000000000000000000000000000000000000...  \n",
       "122  0000000000000000000000000000000000000000000001...  \n",
       "123  0000000000000000000000000000000000000000000000...  \n",
       "124  0000000000000000000000000000000000000000000000...  \n",
       "\n",
       "[125 rows x 2 columns]"
      ]
     },
     "execution_count": 51,
     "metadata": {},
     "output_type": "execute_result"
    }
   ],
   "source": [
    "train"
   ]
  },
  {
   "cell_type": "code",
   "execution_count": 45,
   "metadata": {},
   "outputs": [],
   "source": [
    "train_dict = {}\n",
    "lines = open(\"./Dataset/TR1154.txt\").readlines()\n",
    "for i in range(0, len(lines), 3):\n",
    "    train_dict[lines[i+1].strip()] = lines[i+2].strip()"
   ]
  },
  {
   "cell_type": "code",
   "execution_count": 46,
   "metadata": {},
   "outputs": [],
   "source": [
    "for i in range(len(train['seq'])):\n",
    "    if train['label'][i] != train_dict[train['seq'][i]]:\n",
    "        print(train['seq'][i])"
   ]
  },
  {
   "cell_type": "code",
   "execution_count": 38,
   "metadata": {},
   "outputs": [
    {
     "ename": "KeyError",
     "evalue": "'IVEGSDAEIGMSPWQVMLFRKSPQELLCGASLISDRWVLTAAHCLLYPPWDKNFTENDLLVRIGKHS'",
     "output_type": "error",
     "traceback": [
      "\u001B[1;31m---------------------------------------------------------------------------\u001B[0m",
      "\u001B[1;31mKeyError\u001B[0m                                  Traceback (most recent call last)",
      "\u001B[1;32mf:\\protein_peptide\\temp.ipynb Cell 22\u001B[0m in \u001B[0;36m<cell line: 1>\u001B[1;34m()\u001B[0m\n\u001B[1;32m----> <a href='vscode-notebook-cell:/f%3A/protein_peptide/temp.ipynb#X31sZmlsZQ%3D%3D?line=0'>1</a>\u001B[0m train_dict[\u001B[39m'\u001B[39;49m\u001B[39mIVEGSDAEIGMSPWQVMLFRKSPQELLCGASLISDRWVLTAAHCLLYPPWDKNFTENDLLVRIGKHS\u001B[39;49m\u001B[39m'\u001B[39;49m]\n",
      "\u001B[1;31mKeyError\u001B[0m: 'IVEGSDAEIGMSPWQVMLFRKSPQELLCGASLISDRWVLTAAHCLLYPPWDKNFTENDLLVRIGKHS'"
     ]
    }
   ],
   "source": [
    "train_dict['IVEGSDAEIGMSPWQVMLFRKSPQELLCGASLISDRWVLTAAHCLLYPPWDKNFTENDLLVRIGKHS']"
   ]
  },
  {
   "cell_type": "code",
   "execution_count": 52,
   "metadata": {},
   "outputs": [],
   "source": [
    "bind = 0\n",
    "for i in train['label']:\n",
    "    tag = ' '.join(list(i))\n",
    "    bind += np.sum(np.fromstring(tag, dtype='int', sep=' '))\n"
   ]
  },
  {
   "cell_type": "code",
   "execution_count": 53,
   "metadata": {},
   "outputs": [
    {
     "data": {
      "text/plain": [
       "1716"
      ]
     },
     "execution_count": 53,
     "metadata": {},
     "output_type": "execute_result"
    }
   ],
   "source": [
    "\n",
    "bind"
   ]
  },
  {
   "cell_type": "code",
   "execution_count": null,
   "metadata": {},
   "outputs": [],
   "source": []
  }
 ],
 "metadata": {
  "kernelspec": {
   "display_name": "Python 3.9.12 ('torch')",
   "language": "python",
   "name": "python3"
  },
  "language_info": {
   "codemirror_mode": {
    "name": "ipython",
    "version": 3
   },
   "file_extension": ".py",
   "mimetype": "text/x-python",
   "name": "python",
   "nbconvert_exporter": "python",
   "pygments_lexer": "ipython3",
   "version": "3.9.12"
  },
  "orig_nbformat": 4,
  "vscode": {
   "interpreter": {
    "hash": "690c9ea092c8a6fc9517542155c4d05fadb9e10c4733225e6f103cd30826cc12"
   }
  }
 },
 "nbformat": 4,
 "nbformat_minor": 2
}