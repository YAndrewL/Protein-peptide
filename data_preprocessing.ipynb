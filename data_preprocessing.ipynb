{
 "cells": [
  {
   "cell_type": "markdown",
   "metadata": {
    "pycharm": {
     "name": "#%% md\n"
    }
   },
   "source": [
    "# Data preprocessing\n",
    "\n",
    "Including:\n",
    "- [Statistics](##Statistics)\n",
    "- [Graph construction](##Graph-construction)"
   ]
  },
  {
   "cell_type": "code",
   "execution_count": 1,
   "metadata": {
    "pycharm": {
     "name": "#%%\n"
    }
   },
   "outputs": [],
   "source": [
    "# imports\n",
    "from biopandas.pdb import PandasPdb\n",
    "import pandas as pd\n",
    "import numpy as np\n",
    "import torch_geometric.nn as pyg_nn\n",
    "from torch_geometric.data import Data, InMemoryDataset\n",
    "from transformers import BertModel, BertTokenizer\n",
    "import re\n",
    "import os\n",
    "import shutil\n",
    "import sys\n",
    "import pickle\n",
    "from tqdm import tqdm"
   ]
  },
  {
   "cell_type": "code",
   "execution_count": 13,
   "metadata": {},
   "outputs": [],
   "source": [
    "amino3to1dict = {'ASH': 'A',\n",
    "                 'ALA': 'A',\n",
    "                 'CYX': 'C',\n",
    "                 'CYS': 'C',\n",
    "                 'ASP': 'D',\n",
    "                 'GLU': 'E',\n",
    "                 'PHE': 'F',\n",
    "                 'GLY': 'G',\n",
    "                 'HIS': 'H',\n",
    "                 'HID': 'H',\n",
    "                 'HIE': 'H',\n",
    "                 'HIP': 'H',\n",
    "                 'ILE': 'I',\n",
    "                 'LYS': 'K',\n",
    "                 'LEU': 'L',\n",
    "                 'MET': 'M',\n",
    "                 'MSE': 'M',\n",
    "                 'ASN': 'N',\n",
    "                 'PYL': 'O',\n",
    "                 'HYP': 'P',\n",
    "                 'PRO': 'P',\n",
    "                 'GLN': 'Q',\n",
    "                 'ARG': 'R',\n",
    "                 'SER': 'S',\n",
    "                 'THR': 'T',\n",
    "                 'SEL': 'U',\n",
    "                 'VAL': 'V',\n",
    "                 'TRP': 'W',\n",
    "                 'TYR': 'Y',\n",
    "                 'UNK': 'X'}"
   ]
  },
  {
   "cell_type": "markdown",
   "metadata": {
    "pycharm": {
     "name": "#%% md\n"
    }
   },
   "source": [
    "## Statistics"
   ]
  },
  {
   "cell_type": "code",
   "execution_count": 2,
   "metadata": {
    "pycharm": {
     "name": "#%%\n"
    }
   },
   "outputs": [
    {
     "name": "stderr",
     "output_type": "stream",
     "text": [
      "Some weights of the model checkpoint at Rostlab/prot_bert were not used when initializing BertModel: ['cls.predictions.decoder.weight', 'cls.predictions.transform.dense.weight', 'cls.predictions.bias', 'cls.seq_relationship.bias', 'cls.predictions.transform.LayerNorm.weight', 'cls.predictions.transform.LayerNorm.bias', 'cls.seq_relationship.weight', 'cls.predictions.transform.dense.bias', 'cls.predictions.decoder.bias']\n",
      "- This IS expected if you are initializing BertModel from the checkpoint of a model trained on another task or with another architecture (e.g. initializing a BertForSequenceClassification model from a BertForPreTraining model).\n",
      "- This IS NOT expected if you are initializing BertModel from the checkpoint of a model that you expect to be exactly identical (initializing a BertForSequenceClassification model from a BertForSequenceClassification model).\n"
     ]
    }
   ],
   "source": [
    "tokenizer = BertTokenizer.from_pretrained(\"Rostlab/prot_bert\", do_lower_case=False, cache_dir='./cache_model/')\n",
    "pretrain_model = BertModel.from_pretrained(\"Rostlab/prot_bert\" , cache_dir='./cache_model/')"
   ]
  },
  {
   "cell_type": "code",
   "execution_count": 3,
   "metadata": {
    "pycharm": {
     "name": "#%%\n"
    }
   },
   "outputs": [],
   "source": [
    "def get_protein_features(seq):\n",
    "    sequence_Example = ' '.join(seq)\n",
    "    sequence_Example = re.sub(r\"[UZOB]\", \"X\", sequence_Example)\n",
    "    encoded_input = tokenizer(sequence_Example, return_tensors='pt')\n",
    "    last_hidden = pretrain_model(**encoded_input).last_hidden_state.squeeze(0)[1:-1,:]\n",
    "    return last_hidden.detach()"
   ]
  },
  {
   "cell_type": "markdown",
   "metadata": {
    "pycharm": {
     "name": "#%% md\n"
    }
   },
   "source": [
    "## BioLiP pdb"
   ]
  },
  {
   "cell_type": "code",
   "execution_count": 23,
   "metadata": {
    "pycharm": {
     "name": "#%%\n"
    }
   },
   "outputs": [],
   "source": [
    "# pdb file consistency check\n",
    "lines = open(\"./Dataset/TE639.txt\", 'r').readlines()\n",
    "for i in range(0 ,len(lines), 3):\n",
    "    pdb_id = lines[i][1:6]\n",
    "    atom = PandasPdb().read_pdb(\"./pdb_files/\" + pdb_id + '.pdb').df['ATOM']\n",
    "    atom = atom[(atom['atom_name'] == 'CA')]\n",
    "    atom.sort_values('residue_number')\n",
    "\n",
    "    seq = ''.join(list(map(lambda x: amino3to1dict[x], list(atom['residue_name']))))\n",
    "    if lines[i+1].strip() != seq:\n",
    "        print(pdb_id)\n",
    "        break"
   ]
  },
  {
   "cell_type": "markdown",
   "metadata": {
    "pycharm": {
     "name": "#%% md\n"
    }
   },
   "source": [
    "## Graph-construction"
   ]
  },
  {
   "cell_type": "code",
   "execution_count": 25,
   "metadata": {
    "pycharm": {
     "name": "#%%\n"
    }
   },
   "outputs": [
    {
     "name": "stdout",
     "output_type": "stream",
     "text": [
      "processing file TE125.txt........\n",
      "processing data........\n"
     ]
    },
    {
     "name": "stderr",
     "output_type": "stream",
     "text": [
      "100%|██████████| 125/125 [02:40<00:00,  1.28s/it]\n"
     ]
    },
    {
     "name": "stdout",
     "output_type": "stream",
     "text": [
      "file TE125.txt processing finished!\n",
      "Storage file length: 125\n",
      "Data saved!\n",
      "\n",
      "\n",
      "processing file TE639.txt........\n",
      "processing data........\n"
     ]
    },
    {
     "name": "stderr",
     "output_type": "stream",
     "text": [
      "100%|██████████| 639/639 [13:13<00:00,  1.24s/it]\n"
     ]
    },
    {
     "name": "stdout",
     "output_type": "stream",
     "text": [
      "file TE639.txt processing finished!\n",
      "Storage file length: 639\n",
      "Data saved!\n",
      "\n",
      "\n",
      "processing file TR640.txt........\n",
      "processing data........\n"
     ]
    },
    {
     "name": "stderr",
     "output_type": "stream",
     "text": [
      "100%|██████████| 640/640 [14:23<00:00,  1.35s/it]\n"
     ]
    },
    {
     "name": "stdout",
     "output_type": "stream",
     "text": [
      "file TR640.txt processing finished!\n",
      "Storage file length: 640\n",
      "Data saved!\n",
      "\n",
      "\n",
      "processing file TR1154.txt........\n",
      "processing data........\n"
     ]
    },
    {
     "name": "stderr",
     "output_type": "stream",
     "text": [
      "100%|██████████| 1154/1154 [24:07<00:00,  1.25s/it]\n"
     ]
    },
    {
     "name": "stdout",
     "output_type": "stream",
     "text": [
      "file TR1154.txt processing finished!\n",
      "Storage file length: 1154\n",
      "Data saved!\n",
      "\n",
      "\n"
     ]
    }
   ],
   "source": [
    "for sets in ['TE125.txt', 'TE639.txt', 'TR640.txt', 'TR1154.txt']:\n",
    "    print(f\"processing file {sets}........\")\n",
    "    data_dict = {}\n",
    "    inconsistent = []\n",
    "    lines = open(\"./Dataset/\" + sets, 'r').readlines()\n",
    "\n",
    "    print(\"processing data........\")\n",
    "    for l in tqdm(range(0, len(lines), 3)):\n",
    "        pdb_id = lines[l][1:6]\n",
    "        cpdb = PandasPdb().read_pdb(\"./pdb_files/\" + pdb_id + '.pdb').df['ATOM']\n",
    "        alpha_c_df = cpdb[(cpdb['atom_name'] == 'CA')]\n",
    "        alpha_c_df = alpha_c_df.sort_values('residue_number')\n",
    "        data_dict[pdb_id] = (get_protein_features(lines[l+1].strip()), lines[l+2].strip(), alpha_c_df[['x_coord', 'y_coord', 'z_coord']])\n",
    "\n",
    "\n",
    "    print(f\"file {sets} processing finished!\")\n",
    "    print(f\"Storage file length: {len(data_dict)}\")\n",
    "    pickle.dump(data_dict, open(\"./Dataset_pkl/raw/\" + sets.split('.')[0] + '.pkl', 'wb'))\n",
    "    print(\"Data saved!\")\n",
    "    print('\\n')"
   ]
  },
  {
   "cell_type": "code",
   "execution_count": null,
   "metadata": {
    "pycharm": {
     "name": "#%%\n"
    }
   },
   "outputs": [],
   "source": []
  }
 ],
 "metadata": {
  "kernelspec": {
   "display_name": "Python 3.9.12 ('torch')",
   "language": "python",
   "name": "python3"
  },
  "language_info": {
   "codemirror_mode": {
    "name": "ipython",
    "version": 3
   },
   "file_extension": ".py",
   "mimetype": "text/x-python",
   "name": "python",
   "nbconvert_exporter": "python",
   "pygments_lexer": "ipython3",
   "version": "3.9.12"
  },
  "orig_nbformat": 4,
  "vscode": {
   "interpreter": {
    "hash": "690c9ea092c8a6fc9517542155c4d05fadb9e10c4733225e6f103cd30826cc12"
   }
  }
 },
 "nbformat": 4,
 "nbformat_minor": 2
}