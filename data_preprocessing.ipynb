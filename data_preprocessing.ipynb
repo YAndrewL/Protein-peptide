{
 "cells": [
  {
   "cell_type": "markdown",
   "metadata": {
    "pycharm": {
     "name": "#%% md\n"
    }
   },
   "source": [
    "# Data preprocessing\n",
    "\n",
    "Including:\n",
    "- [Statistics](##Statistics)\n",
    "- [Graph construction](##Graph-construction)"
   ]
  },
  {
   "cell_type": "code",
   "execution_count": 1,
   "metadata": {
    "pycharm": {
     "name": "#%%\n"
    }
   },
   "outputs": [],
   "source": [
    "# imports\n",
    "from biopandas.pdb import PandasPdb\n",
    "import pandas as pd\n",
    "import numpy as np\n",
    "import torch_geometric.nn as pyg_nn\n",
    "from torch_geometric.data import Data, InMemoryDataset\n",
    "from transformers import BertModel, BertTokenizer\n",
    "import re\n",
    "import os\n",
    "import shutil\n",
    "import sys\n",
    "import pickle\n",
    "from tqdm import tqdm"
   ]
  },
  {
   "cell_type": "code",
   "execution_count": null,
   "outputs": [],
   "source": [
    "amino3to1dict = {'ASH': 'A',\n",
    "                 'ALA': 'A',\n",
    "                 'CYX': 'C',\n",
    "                 'CYS': 'C',\n",
    "                 'ASP': 'D',\n",
    "                 'GLU': 'E',\n",
    "                 'PHE': 'F',\n",
    "                 'GLY': 'G',\n",
    "                 'HIS': 'H',\n",
    "                 'HID': 'H',\n",
    "                 'HIE': 'H',\n",
    "                 'HIP': 'H',\n",
    "                 'ILE': 'I',\n",
    "                 'LYS': 'K',\n",
    "                 'LEU': 'L',\n",
    "                 'MET': 'M',\n",
    "                 'MSE': 'M',\n",
    "                 'ASN': 'N',\n",
    "                 'PYL': 'O',\n",
    "                 'HYP': 'P',\n",
    "                 'PRO': 'P',\n",
    "                 'GLN': 'Q',\n",
    "                 'ARG': 'R',\n",
    "                 'SER': 'S',\n",
    "                 'THR': 'T',\n",
    "                 'SEL': 'U',\n",
    "                 'VAL': 'V',\n",
    "                 'TRP': 'W',\n",
    "                 'TYR': 'Y',\n",
    "                 'UNK': 'X'}"
   ],
   "metadata": {
    "collapsed": false,
    "pycharm": {
     "name": "#%%\n"
    }
   }
  },
  {
   "cell_type": "markdown",
   "source": [
    "## Statistics"
   ],
   "metadata": {
    "collapsed": false,
    "pycharm": {
     "name": "#%% md\n"
    }
   }
  },
  {
   "cell_type": "code",
   "execution_count": null,
   "outputs": [],
   "source": [
    "tokenizer = BertTokenizer.from_pretrained(\"Rostlab/prot_bert\", do_lower_case=False, cache_dir='./cache_model/')\n",
    "pretrain_model = BertModel.from_pretrained(\"Rostlab/prot_bert\" , cache_dir='./cache_model/')"
   ],
   "metadata": {
    "collapsed": false,
    "pycharm": {
     "name": "#%%\n"
    }
   }
  },
  {
   "cell_type": "code",
   "execution_count": null,
   "outputs": [],
   "source": [
    "def get_protein_features(seq):\n",
    "    sequence_Example = ' '.join(seq)\n",
    "    sequence_Example = re.sub(r\"[UZOB]\", \"X\", sequence_Example)\n",
    "    encoded_input = tokenizer(sequence_Example, return_tensors='pt')\n",
    "    last_hidden = pretrain_model(**encoded_input).last_hidden_state.squeeze(0)[1:-1,:]\n",
    "    return last_hidden.detach()"
   ],
   "metadata": {
    "collapsed": false,
    "pycharm": {
     "name": "#%%\n"
    }
   }
  },
  {
   "cell_type": "markdown",
   "source": [
    "## BioLiP pdb"
   ],
   "metadata": {
    "collapsed": false,
    "pycharm": {
     "name": "#%% md\n"
    }
   }
  },
  {
   "cell_type": "code",
   "execution_count": null,
   "outputs": [],
   "source": [
    "# pdb file consistency check\n",
    "lines = open(\"./Dataset/TE639.txt\", 'r').readlines()\n",
    "for i in range(0 ,len(lines), 3):\n",
    "    pdb_id = lines[i][1:6]\n",
    "    atom = PandasPdb().read_pdb(\"./pdb_files/\" + pdb_id + '.pdb').df['ATOM']\n",
    "    atom = atom[(atom['atom_name'] == 'CA')]\n",
    "    atom.sort_values('residue_number')\n",
    "\n",
    "    seq = ''.join(list(map(lambda x: amino3to1dict[x], list(atom['residue_name']))))\n",
    "    if lines[i+1].strip() != seq:\n",
    "        print(pdb_id)\n",
    "        break"
   ],
   "metadata": {
    "collapsed": false,
    "pycharm": {
     "name": "#%%\n"
    }
   }
  },
  {
   "cell_type": "markdown",
   "source": [
    "## Graph-construction"
   ],
   "metadata": {
    "collapsed": false,
    "pycharm": {
     "name": "#%% md\n"
    }
   }
  },
  {
   "cell_type": "code",
   "execution_count": null,
   "outputs": [],
   "source": [
    "for sets in ['TE125.txt', 'TE639.txt', 'TR640.txt', 'TR1154.txt']:\n",
    "    print(f\"processing file {sets}........\")\n",
    "    data_dict = {}\n",
    "    inconsistent = []\n",
    "    lines = open(\"./Dataset/\" + sets, 'r').readlines()\n",
    "\n",
    "    print(\"processing data........\")\n",
    "    for l in tqdm(range(0, len(lines), 3)):\n",
    "        pdb_id = lines[l][1:6]\n",
    "        cpdb = PandasPdb().read_pdb(\"./pdb_files/\" + pdb_id + '.pdb').df['ATOM']\n",
    "        alpha_c_df = cpdb[(cpdb['atom_name'] == 'CA')]\n",
    "        alpha_c_df = alpha_c_df.sort_values('residue_number')\n",
    "        data_dict[pdb_id] = (get_protein_features(lines[l+1].strip()), lines[l+2].strip(), alpha_c_df[['x_coord', 'y_coord', 'z_coord']])\n",
    "\n",
    "\n",
    "    print(f\"file {sets} processing finished!\")\n",
    "    print(f\"Storage file length: {len(data_dict)}\")\n",
    "    pickle.dump(data_dict, open(\"./Dataset_pkl/raw/\" + sets.split('.')[0] + '.pkl', 'wb'))\n",
    "    print(\"Data saved!\")\n",
    "    print('\\n')"
   ],
   "metadata": {
    "collapsed": false,
    "pycharm": {
     "name": "#%%\n"
    }
   }
  },
  {
   "cell_type": "code",
   "execution_count": 25,
   "metadata": {
    "pycharm": {
     "name": "#%%\n"
    }
   },
   "outputs": [
    {
     "name": "stdout",
     "output_type": "stream",
     "text": [
      "processing file TE125.txt........\n",
      "processing data........\n"
     ]
    },
    {
     "name": "stderr",
     "output_type": "stream",
     "text": [
      "  9%|▉         | 11/125 [00:09<01:19,  1.44it/s]"
     ]
    }
   ],
   "source": [
    "for sets in ['TE125.txt', 'TE639.txt', 'TR640.txt', 'TR1154.txt']:\n",
    "    print(f\"processing file {sets}........\")\n",
    "    data_dict = {}\n",
    "    inconsistent = []\n",
    "    lines = open(\"./Dataset/\" + sets, 'r').readlines()\n",
    "\n",
    "    print(\"processing data........\")\n",
    "    for l in tqdm(range(0, len(lines), 3)):\n",
    "        pdb_id = lines[l][1:6]\n",
    "        cpdb = PandasPdb().read_pdb(\"./pdb_files/\" + pdb_id + '.pdb').df['ATOM']\n",
    "        alpha_c_df = cpdb[(cpdb['atom_name'] == 'CA')]\n",
    "        alpha_c_df = alpha_c_df.sort_values('residue_number')\n",
    "        data_dict[pdb_id] = (get_protein_features(lines[l+1].strip()), lines[l+2].strip(), alpha_c_df[['x_coord', 'y_coord', 'z_coord']])\n",
    "\n",
    "\n",
    "    print(f\"file {sets} processing finished!\")\n",
    "    print(f\"Storage file length: {len(data_dict)}\")\n",
    "    pickle.dump(data_dict, open(\"./Dataset_pkl/raw/\" + sets.split('.')[0] + '.pkl', 'wb'))\n",
    "    print(\"Data saved!\")\n",
    "    print('\\n')"
   ]
  },
  {
   "cell_type": "code",
   "execution_count": null,
   "metadata": {
    "pycharm": {
     "name": "#%%\n"
    }
   },
   "outputs": [],
   "source": []
  }
 ],
 "metadata": {
  "kernelspec": {
   "display_name": "Python 3.9.12 ('torch')",
   "language": "python",
   "name": "python3"
  },
  "language_info": {
   "codemirror_mode": {
    "name": "ipython",
    "version": 3
   },
   "file_extension": ".py",
   "mimetype": "text/x-python",
   "name": "python",
   "nbconvert_exporter": "python",
   "pygments_lexer": "ipython3",
   "version": "3.9.12"
  },
  "orig_nbformat": 4,
  "vscode": {
   "interpreter": {
    "hash": "690c9ea092c8a6fc9517542155c4d05fadb9e10c4733225e6f103cd30826cc12"
   }
  }
 },
 "nbformat": 4,
 "nbformat_minor": 2
}